{
 "cells": [
  {
   "cell_type": "markdown",
   "metadata": {},
   "source": [
    "Author\n",
    "======\n",
    "\n",
    "Ali Yasin Akalin\n",
    "\n",
    "20492"
   ]
  },
  {
   "cell_type": "code",
   "execution_count": null,
   "metadata": {},
   "outputs": [],
   "source": [
    "import pandas as pd\n",
    "import numpy as np\n",
    "import matplotlib.pyplot as plt\n",
    "import seaborn as sns\n",
    "import scipy"
   ]
  },
  {
   "cell_type": "markdown",
   "metadata": {},
   "source": [
    "## Custom Functions"
   ]
  },
  {
   "cell_type": "code",
   "execution_count": null,
   "metadata": {},
   "outputs": [],
   "source": [
    "def init():\n",
    "    from pathlib import Path\n",
    "    import os\n",
    "\n",
    "    # DIR_SRC points to project directory which is CS210_Project_1/src\n",
    "    # and can be reached from definitions.DIR_SRC after\n",
    "    # running definitions.init() just once\n",
    "    \n",
    "    global DIR_SRC\n",
    "    #DIR_SRC = Path(__file__).parent\n",
    "    DIR_SRC = Path.cwd().parent / \"src\"\n",
    "\n",
    "    global DIR_DATA\n",
    "    #DIR_DATA = DIR_SRC / 'data'\n",
    "    DIR_DATA = DIR_SRC / 'data'\n",
    "\n",
    "    # Changes active directory to project directory\n",
    "    #os.chdir(DIR_SRC)"
   ]
  },
  {
   "cell_type": "markdown",
   "metadata": {},
   "source": [
    "### Basic Functions\n",
    "Open file, save file as csv and print reports."
   ]
  },
  {
   "cell_type": "code",
   "execution_count": null,
   "metadata": {},
   "outputs": [],
   "source": [
    "def openDataFile(file_name):\n",
    "    init()\n",
    "    data_frame = pd.read_csv(DIR_DATA / file_name)\n",
    "    return data_frame\n",
    "\n",
    "\n",
    "def saveDataFrame(data_frame,\n",
    "                  file_name,\n",
    "                  verbose=False):\n",
    "    init()\n",
    "    data_frame.to_csv(DIR_DATA / file_name)\n",
    "    if verbose:\n",
    "        print(\"File saved into\", str(DIR_DATA))\n",
    "\n",
    "\n",
    "def printInfo(info, description='', info_name=''):\n",
    "    print(\"============================================\")\n",
    "    if description:\n",
    "        print(description)\n",
    "    print(info)"
   ]
  },
  {
   "cell_type": "markdown",
   "metadata": {},
   "source": []
  },
  {
   "cell_type": "code",
   "execution_count": null,
   "metadata": {},
   "outputs": [],
   "source": [
    "def showInfo(data_frame):\n",
    "    printInfo(data_frame.shape, \"Shape of the data (rows, columns)\")\n",
    "    printInfo(data_frame.head(), \"First 5 rows of the data)\")\n",
    "    printInfo(data_frame.describe(), \"Statistical analysis\")\n",
    "    printInfo(data_frame.dtypes, \"Data type of columns\")\n",
    "\n",
    "\n",
    "def addColumn(data_frame, column_name, default_value=np.nan):\n",
    "    data_frame[column_name] = default_value\n",
    "\n",
    "\n",
    "def dealNanValues(data_frame):\n",
    "    printInfo(data_frame.isnull().sum())"
   ]
  },
  {
   "cell_type": "markdown",
   "metadata": {},
   "source": [
    "### Create coordinate tuples\n",
    "Example: `(latitude, longitude)`"
   ]
  },
  {
   "cell_type": "markdown",
   "metadata": {},
   "source": [
    "#### Reverse Geocoder API"
   ]
  },
  {
   "cell_type": "code",
   "execution_count": null,
   "metadata": {},
   "outputs": [],
   "source": [
    "import reverse_geocoder as rg\n",
    "\n",
    "\n",
    "def makeCoordinateTuple(latitute, longitude):\n",
    "    if type(latitute) is str or type(latitute) is str:\n",
    "        latitute = float(latitute)\n",
    "        longitude = float(longitude)\n",
    "    return (latitute, longitude)\n",
    "\n",
    "\n",
    "def getDistrictResult(*args):\n",
    "    return rg.search(args)\n",
    "\n",
    "\n",
    "def getDistrictName(result):\n",
    "    names = []\n",
    "    for query in result:\n",
    "        names.append(query['name'])\n",
    "    return names\n",
    "\n"
   ]
  },
  {
   "cell_type": "code",
   "execution_count": null,
   "metadata": {},
   "outputs": [],
   "source": [
    "def getCoords(lat_col, lng_col):\n",
    "    coordinates = []\n",
    "    for lat, lng in zip(lat_col, lng_col):\n",
    "        coordinates.append(makeCoordinateTuple(lat, lng))\n",
    "    return coordinates\n",
    "\n"
   ]
  },
  {
   "cell_type": "markdown",
   "metadata": {},
   "source": [
    "### Get districts and fill them into data frame"
   ]
  },
  {
   "cell_type": "code",
   "execution_count": null,
   "metadata": {},
   "outputs": [],
   "source": [
    "def getDistricts(coordinate_list, verbose=False):\n",
    "    districts = []\n",
    "    if verbose:\n",
    "        print(\"There are\", len(coordinate_list), \"coordinates to work on.\")\n",
    "        i = 0\n",
    "    for instance in coordinate_list:\n",
    "        result = getDistrictResult(instance)\n",
    "        district = getDistrictName(result)[0]\n",
    "        districts.append(district)\n",
    "        if verbose:\n",
    "            i += 1\n",
    "            if i % 500 == 0:\n",
    "                print('500 more rows are done.')\n",
    "                if i == len(districts):\n",
    "                    print(\"In total:\", len(districts))\n",
    "    if verbose:\n",
    "        print(len(districts), \"districts are taken\")\n",
    "    return districts\n",
    "\n",
    "\n",
    "def fillDistrict(data_frame, district_col, districts_list, verbose=False):\n",
    "    data_frame[district_col] = districts_list\n",
    "    if verbose:\n",
    "        print(len(districts_list), \"districts are filled\")\n",
    "    return data_frame\n"
   ]
  },
  {
   "cell_type": "markdown",
   "metadata": {},
   "source": [
    "### Print popular districts"
   ]
  },
  {
   "cell_type": "code",
   "execution_count": null,
   "metadata": {},
   "outputs": [],
   "source": [
    "def printPopularDistrict(data_frame, district_column_name, rows=5):\n",
    "    d = district_column_name\n",
    "    printInfo(data_frame[d].value_counts().head(rows),\n",
    "              'Most popular '+str(rows)+' districts.')\n",
    "\n"
   ]
  },
  {
   "cell_type": "markdown",
   "metadata": {},
   "source": [
    "### Get Distances and fill them into data frame"
   ]
  },
  {
   "cell_type": "code",
   "execution_count": null,
   "metadata": {},
   "outputs": [],
   "source": [
    "import geopy.distance as dist\n",
    "\n",
    "\n",
    "def measureDist(*args, method='geodesic'):\n",
    "    gc = ['great_circle', 'Great Circle', 'Great circle', 'GREAT_CIRCLE']\n",
    "    gd = ['geodesic', 'Geodesic', 'GEODESIC', 'Geo-desic']\n",
    "\n",
    "    coord1, coord2 = args[:2]\n",
    "    if method in gd:\n",
    "        return float(dist.geodesic(coord1, coord2).kilometers)\n",
    "    elif method in gc:\n",
    "        return float(dist.great_circle(coord1, coord2).kilometers)\n",
    "\n",
    "\n",
    "def getDistances(coordinate_list_1, coordinate_list_2, verbose=False):\n",
    "    distances = []\n",
    "    for c1, c2 in zip(coordinate_list_1, coordinate_list_2):\n",
    "        distances.append(measureDist(c1, c2))\n",
    "    return distances\n",
    "\n",
    "\n",
    "def fillDistances(data_frame, distance_col, distance_list, verbose=False):\n",
    "    data_frame[distance_col] = distance_list\n",
    "    if verbose:\n",
    "        print(\"Distances are filled\")\n",
    "    return data_frame\n",
    "\n"
   ]
  },
  {
   "cell_type": "markdown",
   "metadata": {},
   "source": [
    "### Day-Time Operations"
   ]
  },
  {
   "cell_type": "code",
   "execution_count": null,
   "metadata": {},
   "outputs": [],
   "source": [
    "def getDayTime(pickup_times):\n",
    "    time_of_day = []\n",
    "    time_dict = {7: 'rush hour morning',\n",
    "                 8: 'rush hour morning',\n",
    "                 9: 'afternoon',\n",
    "                 10: 'afternoon',\n",
    "                 11: 'afternoon',\n",
    "                 12: 'afternoon',\n",
    "                 13: 'afternoon',\n",
    "                 14: 'afternoon',\n",
    "                 15: 'afternoon',\n",
    "                 16: 'rush hour evening',\n",
    "                 17: 'rush hour evening',\n",
    "                 18: 'evening',\n",
    "                 19: 'evening',\n",
    "                 20: 'evening',\n",
    "                 21: 'evening',\n",
    "                 22: 'evening',\n",
    "                 23: 'late night',\n",
    "                 0: 'late night',\n",
    "                 1: 'late night',\n",
    "                 2: 'late night',\n",
    "                 3: 'late night',\n",
    "                 4: 'late night',\n",
    "                 5: 'late night',\n",
    "                 6: 'late night'}\n",
    "    for time in pickup_times:\n",
    "        time = time.split()[1]\n",
    "        time = time.split(':', maxsplit=1)[0]\n",
    "        time = int(time)\n",
    "        time_of_day.append(time_dict[time])\n",
    "    return time_of_day"
   ]
  },
  {
   "cell_type": "code",
   "execution_count": null,
   "metadata": {},
   "outputs": [],
   "source": [
    "# Seaborn parameters\n",
    "sns.set(style=\"darkgrid\")\n",
    "\n",
    "# Matplotlib settings\n",
    "%matplotlib inline"
   ]
  },
  {
   "cell_type": "markdown",
   "metadata": {},
   "source": [
    "## Execution"
   ]
  },
  {
   "cell_type": "code",
   "execution_count": null,
   "metadata": {},
   "outputs": [],
   "source": [
    "init()\n",
    "df = openDataFile(\"taxi-trips.csv\")\n",
    "\n",
    "showInfo(df)\n",
    "\n",
    "addColumn(df, \"pickup_district\")\n",
    "addColumn(df, \"dropoff_district\")\n",
    "\n",
    "pickup_coords = getCoords(df.pickup_latitude, df.pickup_longitude)\n",
    "drop_coords = getCoords(df.dropoff_latitude, df.dropoff_longitude)\n",
    "\n",
    "dl = getDistricts(pickup_coords, verbose=True)\n",
    "fillDistrict(df, \"pickup_district\", dl)\n",
    "\n",
    "dl = getDistricts(drop_coords, verbose=True)\n",
    "fillDistrict(df, \"dropoff_district\", dl)\n",
    "\n",
    "''' Save Updated data frame\n",
    "saveDataFrame(df, 'taxi-trips_2'.csv)\n",
    "'''\n",
    "\n",
    "for d in ['pickup_district', 'dropoff_district']:\n",
    "    printPopularDistrict(df, d)\n",
    "\n",
    "dl = getDistances(pickup_coords, drop_coords)\n",
    "df['distance'] = dl\n",
    "\n",
    "times = getDayTime(df.pickup_datetime)\n",
    "df['time_of_day'] = times"
   ]
  }
 ],
 "metadata": {
  "kernelspec": {
   "display_name": "Python 3",
   "language": "python",
   "name": "python3"
  },
  "language_info": {
   "codemirror_mode": {
    "name": "ipython",
    "version": 3
   },
   "file_extension": ".py",
   "mimetype": "text/x-python",
   "name": "python",
   "nbconvert_exporter": "python",
   "pygments_lexer": "ipython3",
   "version": "3.6.7"
  }
 },
 "nbformat": 4,
 "nbformat_minor": 2
}
