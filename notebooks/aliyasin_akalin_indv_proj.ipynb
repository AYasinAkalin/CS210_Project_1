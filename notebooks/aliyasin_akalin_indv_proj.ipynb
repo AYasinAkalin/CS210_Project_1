{
 "cells": [
  {
   "cell_type": "markdown",
   "metadata": {},
   "source": [
    "Author\n",
    "======\n",
    "\n",
    "Ali Yasin Akalin\n",
    "\n",
    "20492"
   ]
  },
  {
   "cell_type": "code",
   "execution_count": null,
   "metadata": {},
   "outputs": [],
   "source": [
    "import pandas as pd\n",
    "import numpy as np\n",
    "import matplotlib.pyplot as plt\n",
    "import seaborn as sns\n",
    "import scipy"
   ]
  },
  {
   "cell_type": "markdown",
   "metadata": {},
   "source": [
    "## Custom Functions"
   ]
  },
  {
   "cell_type": "code",
   "execution_count": null,
   "metadata": {},
   "outputs": [],
   "source": [
    "def init():\n",
    "    from pathlib import Path\n",
    "    import os\n",
    "\n",
    "    # DIR_SRC points to project directory which is CS210_Project_1/src\n",
    "    # and can be reached from definitions.DIR_SRC after\n",
    "    # running definitions.init() just once\n",
    "    \n",
    "    global DIR_SRC\n",
    "    #DIR_SRC = Path(__file__).parent\n",
    "    DIR_SRC = Path.cwd().parent / \"src\"\n",
    "\n",
    "    global DIR_DATA\n",
    "    #DIR_DATA = DIR_SRC / 'data'\n",
    "    DIR_DATA = DIR_SRC / 'data'\n",
    "\n",
    "    # Changes active directory to project directory\n",
    "    #os.chdir(DIR_SRC)"
   ]
  },
  {
   "cell_type": "markdown",
   "metadata": {},
   "source": [
    "### Basic Functions\n",
    "Open file, save file as csv and print reports."
   ]
  },
  {
   "cell_type": "code",
   "execution_count": null,
   "metadata": {},
   "outputs": [],
   "source": [
    "def openDataFile(file_name):\n",
    "    init()\n",
    "    data_frame = pd.read_csv(DIR_DATA / file_name)\n",
    "    return data_frame\n",
    "\n",
    "\n",
    "def saveDataFrame(data_frame,\n",
    "                  file_name,\n",
    "                  verbose=False):\n",
    "    init()\n",
    "    data_frame.to_csv(DIR_DATA / file_name)\n",
    "    if verbose:\n",
    "        print(\"File saved into\", str(DIR_DATA))\n",
    "\n",
    "\n",
    "def printInfo(info, description='', info_name=''):\n",
    "    print(\"============================================\")\n",
    "    if description:\n",
    "        print(description)\n",
    "    print(info)"
   ]
  },
  {
   "cell_type": "markdown",
   "metadata": {},
   "source": []
  },
  {
   "cell_type": "code",
   "execution_count": null,
   "metadata": {},
   "outputs": [],
   "source": [
    "def showInfo(data_frame):\n",
    "    printInfo(data_frame.shape, \"Shape of the data (rows, columns)\")\n",
    "    printInfo(data_frame.head(), \"First 5 rows of the data)\")\n",
    "    printInfo(data_frame.describe(), \"Statistical analysis\")\n",
    "    printInfo(data_frame.dtypes, \"Data type of columns\")\n",
    "\n",
    "\n",
    "def addColumn(data_frame, column_name, default_value=np.nan):\n",
    "    data_frame[column_name] = default_value\n",
    "\n",
    "\n",
    "def dealNanValues(data_frame):\n",
    "    printInfo(data_frame.isnull().sum())"
   ]
  },
  {
   "cell_type": "code",
   "execution_count": null,
   "metadata": {},
   "outputs": [],
   "source": [
    "# Seaborn parameters\n",
    "sns.set(style=\"darkgrid\")\n",
    "\n",
    "# Matplotlib settings\n",
    "%matplotlib inline"
   ]
  },
  {
   "cell_type": "markdown",
   "metadata": {},
   "source": [
    "## Execution"
   ]
  },
  {
   "cell_type": "code",
   "execution_count": null,
   "metadata": {},
   "outputs": [],
   "source": [
    "init()\n",
    "df = openDataFile(\"taxi-trips.csv\")\n",
    "\n",
    "showInfo(df)\n",
    "\n",
    "''' Save Updated Dataframe\n",
    "file_name_2 = \"taxi-trips_2.csv\"\n",
    "saveDataFrame(df, file_name_2)\n",
    "'''"
   ]
  }
 ],
 "metadata": {
  "kernelspec": {
   "display_name": "Python 3",
   "language": "python",
   "name": "python3"
  },
  "language_info": {
   "codemirror_mode": {
    "name": "ipython",
    "version": 3
   },
   "file_extension": ".py",
   "mimetype": "text/x-python",
   "name": "python",
   "nbconvert_exporter": "python",
   "pygments_lexer": "ipython3",
   "version": "3.6.7"
  }
 },
 "nbformat": 4,
 "nbformat_minor": 2
}
